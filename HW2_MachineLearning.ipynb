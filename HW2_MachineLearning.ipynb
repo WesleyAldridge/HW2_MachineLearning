{
  "nbformat": 4,
  "nbformat_minor": 0,
  "metadata": {
    "colab": {
      "name": "HW2_MachineLearning",
      "version": "0.3.2",
      "provenance": [],
      "collapsed_sections": [
        "XuWVQX3CySIC",
        "dmQ2siA7ywPx"
      ],
      "include_colab_link": true
    },
    "kernelspec": {
      "name": "python3",
      "display_name": "Python 3"
    },
    "accelerator": "GPU"
  },
  "cells": [
    {
      "cell_type": "markdown",
      "metadata": {
        "id": "view-in-github",
        "colab_type": "text"
      },
      "source": [
        "<a href=\"https://colab.research.google.com/github/WesleyAldridge/HW2_MachineLearning/blob/master/HW2_MachineLearning.ipynb\" target=\"_parent\"><img src=\"https://colab.research.google.com/assets/colab-badge.svg\" alt=\"Open In Colab\"/></a>"
      ]
    },
    {
      "metadata": {
        "id": "rt44vyY1xW9b",
        "colab_type": "text"
      },
      "cell_type": "markdown",
      "source": [
        "## HW2 - Convolutional Neural Network For CIFAR10 Data Set"
      ]
    },
    {
      "metadata": {
        "id": "Pfuun9431eEs",
        "colab_type": "text"
      },
      "cell_type": "markdown",
      "source": [
        "####Instructions from professor:\n",
        "\n",
        "\"The goal of this homework is to create a convolutional neural network for the CIFAR10 data set.\n",
        "\n",
        "Make sure that the data is divided into:\n",
        "\n",
        "- training set,\n",
        "- validation set\n",
        "- test set.\n",
        "\n",
        "Use the training set to train your neural networks. Evaluate their performance on the validation data set.\n",
        "\n",
        "After trying several different architectures, choose the one that performs best of the validation set.\n",
        "\n",
        "Train this final architecture on the data from the training set and validation set and evaluate its performance on the test set.\""
      ]
    },
    {
      "metadata": {
        "id": "l34GNy7tyNks",
        "colab_type": "text"
      },
      "cell_type": "markdown",
      "source": [
        "## Loading the CIFAR10 data set"
      ]
    },
    {
      "metadata": {
        "id": "qICX25UpB4W0",
        "colab_type": "text"
      },
      "cell_type": "markdown",
      "source": [
        "**train_images.shape = (50000, 32, 32, 3)**\n",
        "\n",
        "**test_images.shape  = (10000, 32, 32, 3) **\n",
        "\n",
        "50,000 train_images of shape 32x32 pixels, made up of 3 channels (R,G,B)\n",
        "\n",
        "10,000 test_images of shape 32x32 pixels, made up of 3 channels (R,G,B)"
      ]
    },
    {
      "metadata": {
        "id": "FSJyddqGexl5",
        "colab_type": "code",
        "colab": {}
      },
      "cell_type": "code",
      "source": [
        "from keras import models, layers\n",
        "from keras.datasets import cifar10\n",
        "\n",
        "(train_images, train_labels), (test_images, test_labels) = cifar10.load_data()\n",
        "\n",
        "train_images = train_images.reshape((50000, 32 * 32 * 3))\n",
        "train_images = train_images.astype('float32') / 255\n",
        "\n",
        "test_images = test_images.reshape((10000, 32 * 32 * 3))\n",
        "test_images = test_images.astype('float32') / 255\n",
        "\n",
        "#train_images.shape, test_images.shape"
      ],
      "execution_count": 0,
      "outputs": []
    },
    {
      "metadata": {
        "id": "NqoZq8yYBBvp",
        "colab_type": "text"
      },
      "cell_type": "markdown",
      "source": [
        "## Making CNN"
      ]
    },
    {
      "metadata": {
        "id": "8ES8_yvjAVfP",
        "colab_type": "code",
        "colab": {}
      },
      "cell_type": "code",
      "source": [
        ""
      ],
      "execution_count": 0,
      "outputs": []
    }
  ]
}